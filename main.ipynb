{
 "cells": [
  {
   "cell_type": "code",
   "execution_count": 1,
   "id": "7d3c2e38",
   "metadata": {},
   "outputs": [],
   "source": [
    "#import all dependencies\n",
    "import gpt_2_simple as gpt2\n",
    "from datetime import datetime\n",
    "import numpy as np\n",
    "import pickle\n",
    "import sklearn\n",
    "import pandas as pd\n",
    "import re\n",
    "import spacy\n",
    "import keras\n",
    "import tensorflow.compat.v1 as tf\n",
    "from sklearn.preprocessing import LabelEncoder\n",
    "from keras.preprocessing.text import Tokenizer\n",
    "from keras.preprocessing.sequence import pad_sequences\n",
    "from keras.models import load_model, Sequential\n",
    "from keras.layers import Embedding, Dense, LSTM, Dropout, GlobalAveragePooling1D, Flatten, Bidirectional\n",
    "from pickle import dump, load\n",
    "from tensorflow.keras.utils import to_categorical\n",
    "from sklearn.model_selection import train_test_split"
   ]
  },
  {
   "cell_type": "code",
   "execution_count": 2,
   "id": "549303f6",
   "metadata": {},
   "outputs": [],
   "source": [
    "#starting a gpt2 session with the fine-tuned model\n",
    "sess = gpt2.start_tf_sess() "
   ]
  },
  {
   "cell_type": "code",
   "execution_count": 3,
   "id": "6ec28d1d",
   "metadata": {},
   "outputs": [
    {
     "name": "stdout",
     "output_type": "stream",
     "text": [
      "Loading checkpoint D:/quotes_project/checkpoint/rn1/model-17500\n",
      "INFO:tensorflow:Restoring parameters from D:/quotes_project/checkpoint/rn1/model-17500\n"
     ]
    }
   ],
   "source": [
    "# saver = tf.train.Saver()\n",
    "# saver.restore(sess=sess, save_path='rn1')\n",
    "gpt2.load_gpt2(sess, run_name='rn1') "
   ]
  },
  {
   "cell_type": "code",
   "execution_count": 4,
   "id": "a4279577",
   "metadata": {},
   "outputs": [],
   "source": [
    "# while True: #I loop to allow the user to request quotes as many times as they want\n",
    "quote_list = []\n",
    "def load_quotes():\n",
    "    global result\n",
    "    samples = input(\"How many quotes do you wish to get?\\n \")\n",
    "    while True:\n",
    "        try:\n",
    "            samples = int(samples)\n",
    "            break\n",
    "        except ValueError:\n",
    "            samples = input(\"invalid number, please enter a correct number\\n: \")\n",
    "\n",
    "\n",
    "\n",
    "    theme = input(\"Give a single word and get quotes about it: \")\n",
    "    while \" \" in theme:\n",
    "        theme = input(\"Please enter only a single word or remove any space:\\n\")\n",
    "        if \" \" not in theme:\n",
    "            break\n",
    "    result = gpt2.generate(sess, run_name='rn1', nsamples= int(samples), length=50, \n",
    "                          temperature=0.7, truncate=\"<|endoftext|>\",prefix= \"<|startoftext|>\"+theme, \n",
    "                          include_prefix=True, return_as_list=True) #Here the quote is generated with some parameters\n",
    "\n",
    "    print(\"\\n\")\n",
    "    for i in result:\n",
    "      print('\"'+i[15:]+'\"'+'\\n') #This part is only for evaluation purposes, so it can be removed\n",
    "      quote_list.append(i[15:])"
   ]
  },
  {
   "cell_type": "code",
   "execution_count": 5,
   "id": "1bf6e1b6",
   "metadata": {},
   "outputs": [],
   "source": [
    "#This section takes the generated quotes, and passes it through the sentiment analysis model. Only the positive ones are\n",
    "#returned.\n",
    "#Note: The main purpose of this sentiment analysis is not really to determine if a quote is positive or negative, it is because\n",
    "#since it is a text generator, some of the generated texts may be controversial or inappropriate, so this step will minimise the\n",
    "#risk\n",
    "def classify():\n",
    "    with open('sentiment_analysis_tokenizer', 'rb') as handle:\n",
    "        loaded_tokenizer = pickle.load(handle)\n",
    "    model = tf.keras.models.load_model('sentiment_analysis_1', custom_objects={\"CustomModel\": Sequential})\n",
    "    print('filtered: \\n')\n",
    "    for i in quote_list:\n",
    "        seq = loaded_tokenizer.texts_to_sequences([i])\n",
    "        sequences = np.array(seq)\n",
    "        sequences = pad_sequences(sequences, maxlen= 161, dtype= 'int32', padding= 'pre', truncating= 'pre',  value=0.0)\n",
    "        predict = model.predict(sequences)\n",
    "        if np.argmax(predict) == 1:\n",
    "          print(i) #Instead of printing, it can be used in so many ways"
   ]
  },
  {
   "cell_type": "code",
   "execution_count": 6,
   "id": "4e9548fb",
   "metadata": {},
   "outputs": [
    {
     "name": "stdout",
     "output_type": "stream",
     "text": [
      "How many quotes do you wish to get?\n",
      " 10\n",
      "Give a single word and get quotes about it: thrive\n",
      "\n",
      "\n",
      "\"thrive, in this way, to attain, for real men are not sedentary, and, if they are ever bothered to walk, they are never sick.\"\n",
      "\n",
      "\"thrive to live in a way that honors what you love.\"\n",
      "\n",
      "\"thrive to be good in all things.If you're not, you're not real.And if you're not, you're not.\"\n",
      "\n",
      "\"thrive, succeed, and achieve your goals\"\n",
      "\n",
      "\"thrive for higher thoughts\"\n",
      "\n",
      "\"thrive to be courageous everyday, you will become the bravest and bravest thing in this world\"\n",
      "\n",
      "\"thrive to be proactive instead of reactive\"\n",
      "\n",
      "\"thrive for success,but never forget to work hard.\"\n",
      "\n",
      "\"thrive to live in a world of difference and contrast will manifest in abundance and joy\"\n",
      "\n",
      "\"thrive to be happy and succeed\"\n",
      "\n",
      "filtered: \n",
      "\n"
     ]
    },
    {
     "name": "stderr",
     "output_type": "stream",
     "text": [
      "c:\\users\\tsimalayh\\appdata\\local\\programs\\python\\python39\\lib\\site-packages\\keras\\engine\\training_v1.py:2079: UserWarning: `Model.state_updates` will be removed in a future version. This property should not be used in TensorFlow 2.0, as `updates` are applied automatically.\n",
      "  updates=self.state_updates,\n"
     ]
    },
    {
     "name": "stdout",
     "output_type": "stream",
     "text": [
      "thrive to live in a way that honors what you love.\n",
      "thrive to be good in all things.If you're not, you're not real.And if you're not, you're not.\n",
      "thrive, succeed, and achieve your goals\n",
      "thrive to be courageous everyday, you will become the bravest and bravest thing in this world\n",
      "thrive to be proactive instead of reactive\n",
      "thrive to live in a world of difference and contrast will manifest in abundance and joy\n",
      "thrive to be happy and succeed\n",
      "\n",
      "Whant more?\n",
      "\n",
      "Type \"Yes\" if you want to continue, or \"No\" if you want to stop: yes\n",
      "How many quotes do you wish to get?\n",
      " 10\n",
      "Give a single word and get quotes about it: live\n",
      "\n",
      "\n",
      "\"live life in a unique way\"\n",
      "\n",
      "\"live your life on a path that serves you.that is all there is.\"\n",
      "\n",
      "\"live in the moment, but not in the moment. live in the moment, but not in the moment. live in the moment, but not in the moment.\"\n",
      "\n",
      "\"live. Love. Breathe. Be. Love. Be.\"\n",
      "\n",
      "\"live life in complete bliss, peace and happiness.\"\n",
      "\n",
      "\"live a daring life.\"\n",
      "\n",
      "\"live your life with passion and purpose.You will not regret it.\"\n",
      "\n",
      "\"live your life as if life is forever, before you die. only time will show you how your life was lived.\"\n",
      "\n",
      "\"live life with the power of love\"\n",
      "\n",
      "\"live in a person you can't replace with another person, you will not be replaced after you replace their brain.\"\n",
      "\n",
      "filtered: \n",
      "\n",
      "live life in a unique way\n",
      "live your life on a path that serves you.that is all there is.\n",
      "live. Love. Breathe. Be. Love. Be.\n",
      "live life in complete bliss, peace and happiness.\n",
      "live a daring life.\n",
      "live your life with passion and purpose.You will not regret it.\n",
      "live your life as if life is forever, before you die. only time will show you how your life was lived.\n",
      "live life with the power of love\n",
      "\n",
      "Whant more?\n",
      "\n",
      "Type \"Yes\" if you want to continue, or \"No\" if you want to stop: no\n"
     ]
    }
   ],
   "source": [
    "#This loop allows us to request as many quotes as we want. Keep in mind that the GPT-2 model is considerably slow in generating\n",
    "#text. I am still trying to figure out a way to fasten it\n",
    "while True:\n",
    "    load_quotes()\n",
    "    classify()\n",
    "    quote_list = []\n",
    "    print(\"\\nWhant more?\\n\")\n",
    "    more = input('Type \"Yes\" if you want to continue, or \"No\" if you want to stop: ')\n",
    "    more = more.lower()\n",
    "    options = {\"no\",\"nah\",\"noh\",\"nope\",\"non\"}\n",
    "    if more in options:\n",
    "        break"
   ]
  },
  {
   "cell_type": "code",
   "execution_count": null,
   "id": "cad96f15",
   "metadata": {},
   "outputs": [],
   "source": []
  },
  {
   "cell_type": "code",
   "execution_count": null,
   "id": "076ca075",
   "metadata": {},
   "outputs": [],
   "source": []
  },
  {
   "cell_type": "code",
   "execution_count": null,
   "id": "8814dbf1",
   "metadata": {},
   "outputs": [],
   "source": []
  }
 ],
 "metadata": {
  "kernelspec": {
   "display_name": "Python 3 (ipykernel)",
   "language": "python",
   "name": "python3"
  },
  "language_info": {
   "codemirror_mode": {
    "name": "ipython",
    "version": 3
   },
   "file_extension": ".py",
   "mimetype": "text/x-python",
   "name": "python",
   "nbconvert_exporter": "python",
   "pygments_lexer": "ipython3",
   "version": "3.9.6"
  }
 },
 "nbformat": 4,
 "nbformat_minor": 5
}
